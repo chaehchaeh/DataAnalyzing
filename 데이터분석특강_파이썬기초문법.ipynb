{
  "nbformat": 4,
  "nbformat_minor": 0,
  "metadata": {
    "colab": {
      "provenance": [],
      "collapsed_sections": [],
      "authorship_tag": "ABX9TyPjGdNR3giXlH+JY1oriWJG",
      "include_colab_link": true
    },
    "kernelspec": {
      "name": "python3",
      "display_name": "Python 3"
    },
    "language_info": {
      "name": "python"
    }
  },
  "cells": [
    {
      "cell_type": "markdown",
      "metadata": {
        "id": "view-in-github",
        "colab_type": "text"
      },
      "source": [
        "<a href=\"https://colab.research.google.com/github/chaehchaeh/DataAnalyzing/blob/main/%EB%8D%B0%EC%9D%B4%ED%84%B0%EB%B6%84%EC%84%9D%ED%8A%B9%EA%B0%95_%ED%8C%8C%EC%9D%B4%EC%8D%AC%EA%B8%B0%EC%B4%88%EB%AC%B8%EB%B2%95.ipynb\" target=\"_parent\"><img src=\"https://colab.research.google.com/assets/colab-badge.svg\" alt=\"Open In Colab\"/></a>"
      ]
    },
    {
      "cell_type": "code",
      "execution_count": null,
      "metadata": {
        "colab": {
          "base_uri": "https://localhost:8080/"
        },
        "id": "6EYN83H_0euI",
        "outputId": "418c9a16-f41a-4964-cfb2-ba4d4a23efc1"
      },
      "outputs": [
        {
          "output_type": "stream",
          "name": "stdout",
          "text": [
            "3 0.5 김연아 True\n"
          ]
        }
      ],
      "source": [
        "#파이썬의 기본 변수 4가지\n",
        "a=3\n",
        "b=0.5\n",
        "x='김연아'\n",
        "y=True\n",
        "print(a,b,x,y)"
      ]
    },
    {
      "cell_type": "code",
      "source": [
        "#문자열의 길이보기\n",
        "len(x)"
      ],
      "metadata": {
        "colab": {
          "base_uri": "https://localhost:8080/"
        },
        "id": "Llgt1gzh6U9Y",
        "outputId": "d3b7839c-c53b-4880-d2f5-abab405c0a56"
      },
      "execution_count": null,
      "outputs": [
        {
          "output_type": "execute_result",
          "data": {
            "text/plain": [
              "3"
            ]
          },
          "metadata": {},
          "execution_count": 3
        }
      ]
    },
    {
      "cell_type": "code",
      "source": [
        "#정수,실수,불리언의 4칙연산\n",
        "print(a+b)\n",
        "print(a-b)\n",
        "print(a*b)\n",
        "print(a/b)\n",
        "print(a+b+y)"
      ],
      "metadata": {
        "colab": {
          "base_uri": "https://localhost:8080/"
        },
        "id": "ucul1u-v6cPb",
        "outputId": "520eda44-8f57-48f5-fe20-0600468ccd73"
      },
      "execution_count": null,
      "outputs": [
        {
          "output_type": "stream",
          "name": "stdout",
          "text": [
            "3.5\n",
            "2.5\n",
            "1.5\n",
            "6.0\n",
            "4.5\n"
          ]
        }
      ]
    },
    {
      "cell_type": "code",
      "source": [
        "#변수의 타입 확인하기\n",
        "type(a),type(b),type(x),type(y)"
      ],
      "metadata": {
        "colab": {
          "base_uri": "https://localhost:8080/"
        },
        "id": "k-yDR1ib6qDb",
        "outputId": "fd0f87a2-00b0-41b5-8ac2-48461346729b"
      },
      "execution_count": null,
      "outputs": [
        {
          "output_type": "execute_result",
          "data": {
            "text/plain": [
              "(int, float, str, bool)"
            ]
          },
          "metadata": {},
          "execution_count": 6
        }
      ]
    },
    {
      "cell_type": "code",
      "source": [
        "a=7\n",
        "b=3\n",
        "\n",
        "print(a//b)\n",
        "print(a%b)\n",
        "print(a**b)"
      ],
      "metadata": {
        "colab": {
          "base_uri": "https://localhost:8080/"
        },
        "id": "eZxo4DXf7Cx7",
        "outputId": "cb361fd7-a975-4c46-8f7b-c92a4aec23fb"
      },
      "execution_count": null,
      "outputs": [
        {
          "output_type": "stream",
          "name": "stdout",
          "text": [
            "2\n",
            "1\n",
            "343\n"
          ]
        }
      ]
    },
    {
      "cell_type": "code",
      "source": [
        "#문자열 붙이기\n",
        "x='오늘 날씨는 '\n",
        "y='좋으네요~ '\n",
        "z=x+y\n",
        "print(z)"
      ],
      "metadata": {
        "colab": {
          "base_uri": "https://localhost:8080/"
        },
        "id": "vVlGbHR17K16",
        "outputId": "bb47ded0-a9f2-47e8-8b98-0fc155f2f0fe"
      },
      "execution_count": null,
      "outputs": [
        {
          "output_type": "stream",
          "name": "stdout",
          "text": [
            "오늘 날씨는 좋으네요~ \n"
          ]
        }
      ]
    },
    {
      "cell_type": "code",
      "source": [
        "#문자열 반복하기\n",
        "x+3*y"
      ],
      "metadata": {
        "colab": {
          "base_uri": "https://localhost:8080/",
          "height": 35
        },
        "id": "Bc6U-2-u7c-a",
        "outputId": "e3b32817-bef0-49bf-e7bb-f4d2e457700e"
      },
      "execution_count": null,
      "outputs": [
        {
          "output_type": "execute_result",
          "data": {
            "text/plain": [
              "'오늘 날씨는 좋으네요~ 좋으네요~ 좋으네요~ '"
            ],
            "application/vnd.google.colaboratory.intrinsic+json": {
              "type": "string"
            }
          },
          "metadata": {},
          "execution_count": 11
        }
      ]
    },
    {
      "cell_type": "code",
      "source": [
        "#문자열 일부 보기(슬라이싱)\n",
        "x='오늘 날씨는 '\n",
        "print(len(x))\n",
        "print(x)\n",
        "print(x[1])\n",
        "print(x[:3])\n",
        "print(x[3:6])\n",
        "print(x[-3])\n",
        "print(x[-3:])"
      ],
      "metadata": {
        "colab": {
          "base_uri": "https://localhost:8080/"
        },
        "id": "EZ9lL_N67g26",
        "outputId": "e776e53c-f801-48e6-8151-effd6e1104d6"
      },
      "execution_count": null,
      "outputs": [
        {
          "output_type": "stream",
          "name": "stdout",
          "text": [
            "7\n",
            "오늘 날씨는 \n",
            "늘\n",
            "오늘 \n",
            "날씨는\n",
            "씨\n",
            "씨는 \n"
          ]
        }
      ]
    },
    {
      "cell_type": "code",
      "source": [
        "#문자열을 ','나 공백(스페이스) 등으로 나누기\n",
        "name1='김연아,손흥민,이선희,유재석'\n",
        "# ','로 나누기\n",
        "z=name1.split(',')\n",
        "print(z)\n",
        "#스페이스로 나누기(디폴트)\n",
        "name2='김연아 손흥민 이선희 유재석'\n",
        "print(name2.split())"
      ],
      "metadata": {
        "colab": {
          "base_uri": "https://localhost:8080/"
        },
        "id": "KaEsD5Q57xt6",
        "outputId": "4c9892c0-9694-4755-b865-1cd2f27052c4"
      },
      "execution_count": null,
      "outputs": [
        {
          "output_type": "stream",
          "name": "stdout",
          "text": [
            "['김연아', '손흥민', '이선희', '유재석']\n",
            "['김연아', '손흥민', '이선희', '유재석']\n"
          ]
        }
      ]
    },
    {
      "cell_type": "code",
      "source": [
        "#단어 합치기\n",
        "';'.join(z)"
      ],
      "metadata": {
        "colab": {
          "base_uri": "https://localhost:8080/",
          "height": 35
        },
        "id": "gHAw3Qq98H7a",
        "outputId": "40a8897c-6f4f-4903-8345-2ecb1127b94a"
      },
      "execution_count": null,
      "outputs": [
        {
          "output_type": "execute_result",
          "data": {
            "text/plain": [
              "'김연아;손흥민;이선희;유재석'"
            ],
            "application/vnd.google.colaboratory.intrinsic+json": {
              "type": "string"
            }
          },
          "metadata": {},
          "execution_count": 16
        }
      ]
    },
    {
      "cell_type": "code",
      "source": [
        "#날짜를 '/'를 기준으로 나누고 순서를 바꾸어서 합치기\n",
        "date='12/31/2023'\n",
        "z=date.split('/')\n",
        "print(z)\n",
        "print(z[1])\n",
        "new_date='-'.join((z[2],z[0],z[1]))\n",
        "print(new_date)"
      ],
      "metadata": {
        "colab": {
          "base_uri": "https://localhost:8080/"
        },
        "id": "0CKDGvWC8nYr",
        "outputId": "69169b59-ae44-4a5b-aab3-72cabc149a1f"
      },
      "execution_count": null,
      "outputs": [
        {
          "output_type": "stream",
          "name": "stdout",
          "text": [
            "['12', '31', '2023']\n",
            "31\n",
            "2023-12-31\n"
          ]
        }
      ]
    },
    {
      "cell_type": "code",
      "source": [
        "#문자열 교체\n",
        "x='오늘 날씨는 '\n",
        "print(x.replace('날씨는','기온은'))"
      ],
      "metadata": {
        "colab": {
          "base_uri": "https://localhost:8080/"
        },
        "id": "JHlxuvLi86SK",
        "outputId": "d0138331-89cc-45b1-ee6b-8e5176a45bb1"
      },
      "execution_count": null,
      "outputs": [
        {
          "output_type": "stream",
          "name": "stdout",
          "text": [
            "오늘 기온은 \n"
          ]
        }
      ]
    },
    {
      "cell_type": "code",
      "source": [
        "#문자열 내에 변수를 같이 출력하는 방법\n",
        "x=5\n",
        "y=90.5\n",
        "print(f'틀린 개수가 {x}개 이하이면 {y} 점입니다.')\n",
        "print('틀린 개수가 %d개 이하이면 %f 점입니다.'%(x,y))\n",
        "print('틀린 개수가 {0}개 이하이면 {1}점입니다.'.format(x,y))\n"
      ],
      "metadata": {
        "colab": {
          "base_uri": "https://localhost:8080/"
        },
        "id": "sdh_1HXB9FZb",
        "outputId": "5a586df0-141c-4677-8179-6d5bd4bcae91"
      },
      "execution_count": null,
      "outputs": [
        {
          "output_type": "stream",
          "name": "stdout",
          "text": [
            "틀린 개수가 5개 이하이면 90.5 점입니다.\n",
            "틀린 개수가 5개 이하이면 90.500000 점입니다.\n",
            "틀린 개수가 5개 이하이면 90.5점입니다.\n"
          ]
        }
      ]
    },
    {
      "cell_type": "code",
      "source": [
        "#비교연산의 결과는 논리형 값이다\n",
        "x=5\n",
        "z=x<1\n",
        "print(z)\n",
        "print(x>0)"
      ],
      "metadata": {
        "colab": {
          "base_uri": "https://localhost:8080/"
        },
        "id": "VPb3vst9BcPO",
        "outputId": "81d73ce1-3875-4fb4-e380-9e22db0ccf5b"
      },
      "execution_count": null,
      "outputs": [
        {
          "output_type": "stream",
          "name": "stdout",
          "text": [
            "False\n",
            "True\n"
          ]
        }
      ]
    },
    {
      "cell_type": "code",
      "source": [
        "a=True\n",
        "b=False\n",
        "print(a&b)\n",
        "print(a|b)"
      ],
      "metadata": {
        "colab": {
          "base_uri": "https://localhost:8080/"
        },
        "id": "YG4ZRZn4B2H-",
        "outputId": "9d36c59d-33b4-47e1-ac7a-73a6150b21ee"
      },
      "execution_count": null,
      "outputs": [
        {
          "output_type": "stream",
          "name": "stdout",
          "text": [
            "False\n",
            "True\n"
          ]
        }
      ]
    },
    {
      "cell_type": "code",
      "source": [
        "#리스트 생성과 일부항목 얻기\n",
        "a=3\n",
        "b=90\n",
        "small_list=[100,200]\n",
        "x=[1,2,a,a*10,b,small_list,'김연아']\n",
        "print(len(x))\n",
        "print(x)\n",
        "print(x[1])\n",
        "print(x[:3])\n",
        "print(x[3:6])\n",
        "print(x[-3])\n",
        "print(x[-3:])"
      ],
      "metadata": {
        "colab": {
          "base_uri": "https://localhost:8080/"
        },
        "id": "4j3l46r-B86f",
        "outputId": "c4f1872c-b92d-43ac-b541-7b1026e75755"
      },
      "execution_count": null,
      "outputs": [
        {
          "output_type": "stream",
          "name": "stdout",
          "text": [
            "7\n",
            "[1, 2, 3, 30, 90, [100, 200], '김연아']\n",
            "2\n",
            "[1, 2, 3]\n",
            "[30, 90, [100, 200]]\n",
            "90\n",
            "[90, [100, 200], '김연아']\n"
          ]
        }
      ]
    },
    {
      "cell_type": "code",
      "source": [
        "print(x)\n",
        "x.append('손흥민')#맨 뒤에 추가된다\n",
        "x.append('손흥민')\n",
        "x"
      ],
      "metadata": {
        "colab": {
          "base_uri": "https://localhost:8080/"
        },
        "id": "T5A4IacWCVI9",
        "outputId": "a50d6e7e-e245-4410-9947-4684c47b431e"
      },
      "execution_count": null,
      "outputs": [
        {
          "output_type": "stream",
          "name": "stdout",
          "text": [
            "[1, 2, 3, 30, 90, [100, 200], '김연아']\n"
          ]
        },
        {
          "output_type": "execute_result",
          "data": {
            "text/plain": [
              "[1, 2, 3, 30, 90, [100, 200], '김연아', '손흥민', '손흥민']"
            ]
          },
          "metadata": {},
          "execution_count": 28
        }
      ]
    },
    {
      "cell_type": "code",
      "source": [
        "#리스트에 포함된 항목 확인하기\n",
        "x=[30,40,'김연아']\n",
        "print(30 in x)\n",
        "print(100 in x)\n",
        "print('김연아' in x)"
      ],
      "metadata": {
        "colab": {
          "base_uri": "https://localhost:8080/"
        },
        "id": "0RzgqYJwCwMN",
        "outputId": "3f9292d7-922d-4206-e69e-f183b26ef237"
      },
      "execution_count": null,
      "outputs": [
        {
          "output_type": "stream",
          "name": "stdout",
          "text": [
            "True\n",
            "False\n",
            "True\n"
          ]
        }
      ]
    },
    {
      "cell_type": "code",
      "source": [
        "#리스트 복제 및 붙이기\n",
        "a=[0]\n",
        "b=[1]\n",
        "z=a*5+b*5\n",
        "z"
      ],
      "metadata": {
        "colab": {
          "base_uri": "https://localhost:8080/"
        },
        "id": "OxY1h_lfC9wd",
        "outputId": "e1d0d0e3-bbb1-4981-f9ce-5bb698a02790"
      },
      "execution_count": null,
      "outputs": [
        {
          "output_type": "execute_result",
          "data": {
            "text/plain": [
              "[0, 0, 0, 0, 0, 1, 1, 1, 1, 1]"
            ]
          },
          "metadata": {},
          "execution_count": 30
        }
      ]
    },
    {
      "cell_type": "code",
      "source": [
        "#리스트 순서 정렬하기\n",
        "x=[2,1,3,5,4]\n",
        "y=sorted(x)\n",
        "z=sorted(x,reverse=True)\n",
        "print(y)\n",
        "print(z)\n",
        "x=['이선희','김연아','박세리']\n",
        "y=sorted(x)\n",
        "print(y)"
      ],
      "metadata": {
        "colab": {
          "base_uri": "https://localhost:8080/"
        },
        "id": "0wzDeLtEDE4t",
        "outputId": "1fcd5b32-84da-4f48-af88-1c085d11ae8a"
      },
      "execution_count": null,
      "outputs": [
        {
          "output_type": "stream",
          "name": "stdout",
          "text": [
            "[1, 2, 3, 4, 5]\n",
            "[5, 4, 3, 2, 1]\n",
            "['김연아', '박세리', '이선희']\n"
          ]
        }
      ]
    },
    {
      "cell_type": "code",
      "source": [
        "#튜플만들기,복제,합치기\n",
        "tuple_a=(1,2,3)\n",
        "tuple_b=90,'good'\n",
        "z=tuple_a*2+tuple_b\n",
        "print(z)\n",
        "print(z[-2])\n",
        "print(3 in z)\n",
        "print(4 in z)"
      ],
      "metadata": {
        "colab": {
          "base_uri": "https://localhost:8080/"
        },
        "id": "8V1foxjgDR2e",
        "outputId": "f9393f30-e80a-43a1-8e0e-daa1ce2549da"
      },
      "execution_count": null,
      "outputs": [
        {
          "output_type": "stream",
          "name": "stdout",
          "text": [
            "(1, 2, 3, 1, 2, 3, 90, 'good')\n",
            "90\n",
            "True\n",
            "False\n"
          ]
        }
      ]
    },
    {
      "cell_type": "code",
      "source": [
        "#딕셔너리 생성, 값변경, 항목추가하기\n",
        "student={'grade':3, 'age':21, 'name':'kim'}\n",
        "print(student['grade'])\n",
        "student['age']=28\n",
        "student['address']='Seoul'\n",
        "print(student)"
      ],
      "metadata": {
        "colab": {
          "base_uri": "https://localhost:8080/"
        },
        "id": "-DU7v2EVEJXu",
        "outputId": "670c8a7c-649d-4544-9443-af0f2be5e93d"
      },
      "execution_count": null,
      "outputs": [
        {
          "output_type": "stream",
          "name": "stdout",
          "text": [
            "3\n",
            "{'grade': 3, 'age': 28, 'name': 'kim', 'address': 'Seoul'}\n"
          ]
        }
      ]
    },
    {
      "cell_type": "code",
      "source": [
        "#딕셔너리의 키, 값, 항목 전체 출력하기\n",
        "print(student.keys())\n",
        "print(student.values())\n",
        "print(student.items())"
      ],
      "metadata": {
        "colab": {
          "base_uri": "https://localhost:8080/"
        },
        "id": "hWeSOsR5Eilt",
        "outputId": "557a7f46-0d05-4f1d-e718-fecf514f6c1a"
      },
      "execution_count": null,
      "outputs": [
        {
          "output_type": "stream",
          "name": "stdout",
          "text": [
            "dict_keys(['grade', 'age', 'name', 'address'])\n",
            "dict_values([3, 28, 'kim', 'Seoul'])\n",
            "dict_items([('grade', 3), ('age', 28), ('name', 'kim'), ('address', 'Seoul')])\n"
          ]
        }
      ]
    },
    {
      "cell_type": "code",
      "source": [
        "#딕셔너리에 특정 키가 존재하는지 확인하기\n",
        "print('age' in student)\n",
        "print('sex' in student)"
      ],
      "metadata": {
        "colab": {
          "base_uri": "https://localhost:8080/"
        },
        "id": "vIua5whUFWxN",
        "outputId": "c2bd2d8b-4639-4590-a24d-84e9cc63662a"
      },
      "execution_count": null,
      "outputs": [
        {
          "output_type": "stream",
          "name": "stdout",
          "text": [
            "True\n",
            "False\n"
          ]
        }
      ]
    },
    {
      "cell_type": "code",
      "source": [
        "#특수 변수 range와 내용 보기\n",
        "x=range(10)\n",
        "print(x)\n",
        "list_x=list(x)\n",
        "print(list_x)\n",
        "\n",
        "y=range(2,20,3)\n",
        "print(y)\n",
        "print(list(y))"
      ],
      "metadata": {
        "colab": {
          "base_uri": "https://localhost:8080/"
        },
        "id": "vChYgaRwFl5M",
        "outputId": "53f94ce7-113f-4753-c43d-a8bd441ad824"
      },
      "execution_count": null,
      "outputs": [
        {
          "output_type": "stream",
          "name": "stdout",
          "text": [
            "range(0, 10)\n",
            "[0, 1, 2, 3, 4, 5, 6, 7, 8, 9]\n",
            "range(2, 20, 3)\n",
            "[2, 5, 8, 11, 14, 17]\n"
          ]
        }
      ]
    },
    {
      "cell_type": "code",
      "source": [
        "#기본적인 if, elif, else 사용법\n",
        "x=90\n",
        "\n",
        "if x>80:\n",
        "    print('축하합니다~ 합격입니다')\n",
        "    print('다음주부터 출근하시면 됩니다.')\n",
        "\n",
        "elif x>60:\n",
        "    print('2차 면접시험 대상자 입니다.')\n",
        "    print('시험 날짜를 알려드리겠습니다.')\n",
        "else:\n",
        "    print('불합격입니다.')"
      ],
      "metadata": {
        "colab": {
          "base_uri": "https://localhost:8080/"
        },
        "id": "aL8vPaddFytM",
        "outputId": "1034144d-909a-4fa1-b69c-40af71227109"
      },
      "execution_count": null,
      "outputs": [
        {
          "output_type": "stream",
          "name": "stdout",
          "text": [
            "축하합니다~ 합격입니다\n",
            "다음주부터 출근하시면 됩니다.\n"
          ]
        }
      ]
    },
    {
      "cell_type": "code",
      "source": [
        "#for문을 사용하여 채점 결과를 알려주는 코드\n",
        "score=[50,70,90]\n",
        "for x in score:\n",
        "    print('----------------------')\n",
        "    if x>80:\n",
        "        print('축하합니다~ 합격입니다')\n",
        "        print('다음주부터 출근하시면 됩니다')\n",
        "    elif x>60:\n",
        "        print('2차 면접시험 대상자 입니다')\n",
        "        print('시험 날짜를 알려드리겠습니다')\n",
        "    else:\n",
        "        print('불합격입니다.')"
      ],
      "metadata": {
        "colab": {
          "base_uri": "https://localhost:8080/"
        },
        "id": "txXTER1wGUho",
        "outputId": "f832b86a-412c-4e8d-95d3-79b5e5b41d6d"
      },
      "execution_count": null,
      "outputs": [
        {
          "output_type": "stream",
          "name": "stdout",
          "text": [
            "----------------------\n",
            "불합격입니다.\n",
            "----------------------\n",
            "2차 면접시험 대상자 입니다\n",
            "시험 날짜를 알려드리겠습니다\n",
            "----------------------\n",
            "축하합니다~ 합격입니다\n",
            "다음주부터 출근하시면 됩니다\n"
          ]
        }
      ]
    },
    {
      "cell_type": "code",
      "source": [
        "#리스트의 인덱스를 얻는 enumerate()사용예\n",
        "score = [50,70,90]\n",
        "for i, x in enumerate(score):\n",
        "    print('-------------------')\n",
        "    print(i+1, '번째 응시자님:')\n",
        "    if x>80:\n",
        "        print('축하합니다~ 합격입니다')\n",
        "        print('다음주부터 출근하시면 됩니다.')\n",
        "    elif x>60:\n",
        "        print('2차 면접시험 대상자입니다.')\n",
        "        print('시험 날짜를 알려드리겠습니다')\n",
        "    else:\n",
        "        print('불합격입니다')"
      ],
      "metadata": {
        "colab": {
          "base_uri": "https://localhost:8080/"
        },
        "id": "vrBlEJ1xHWq4",
        "outputId": "b074cc59-6dfe-4f22-ed51-c6ce42ddf7b0"
      },
      "execution_count": null,
      "outputs": [
        {
          "output_type": "stream",
          "name": "stdout",
          "text": [
            "-------------------\n",
            "1 번째 응시자님:\n",
            "불합격입니다\n",
            "-------------------\n",
            "2 번째 응시자님:\n",
            "2차 면접시험 대상자입니다.\n",
            "시험 날짜를 알려드리겠습니다\n",
            "-------------------\n",
            "3 번째 응시자님:\n",
            "축하합니다~ 합격입니다\n",
            "다음주부터 출근하시면 됩니다.\n"
          ]
        }
      ]
    },
    {
      "cell_type": "code",
      "source": [
        "#enumerate사용예\n",
        "names=['kim','park','lee']\n",
        "print(list(enumerate(names)))\n",
        "for i, name in enumerate(names):\n",
        "    print(f'{i+1}번째 사람 이름은 {name}입니다')"
      ],
      "metadata": {
        "colab": {
          "base_uri": "https://localhost:8080/"
        },
        "id": "ZfGEyPazH9Bb",
        "outputId": "a931a8b8-e80c-4af2-9187-d9242fd81548"
      },
      "execution_count": null,
      "outputs": [
        {
          "output_type": "stream",
          "name": "stdout",
          "text": [
            "[(0, 'kim'), (1, 'park'), (2, 'lee')]\n",
            "1번째 사람 이름은 kim입니다\n",
            "2번째 사람 이름은 park입니다\n",
            "3번째 사람 이름은 lee입니다\n"
          ]
        }
      ]
    },
    {
      "cell_type": "code",
      "source": [
        "#1~5사이의 정수에 10을 곱하기\n",
        "for i in range(1,6):\n",
        "    print(i*10)"
      ],
      "metadata": {
        "colab": {
          "base_uri": "https://localhost:8080/"
        },
        "id": "nOnE72JNIdFi",
        "outputId": "354ef3be-052e-4722-adad-f66c49ccf681"
      },
      "execution_count": null,
      "outputs": [
        {
          "output_type": "stream",
          "name": "stdout",
          "text": [
            "10\n",
            "20\n",
            "30\n",
            "40\n",
            "50\n"
          ]
        }
      ]
    },
    {
      "cell_type": "code",
      "source": [
        "#리스트 선언문 내에서 for을 사용하는 방법\n",
        "z=[i*10 for i in range (1,6)]\n",
        "print(z)"
      ],
      "metadata": {
        "colab": {
          "base_uri": "https://localhost:8080/"
        },
        "id": "gGB_IEKMI_Wi",
        "outputId": "57c5330b-a8cc-4f34-fded-f5e2aecb132a"
      },
      "execution_count": null,
      "outputs": [
        {
          "output_type": "stream",
          "name": "stdout",
          "text": [
            "[10, 20, 30, 40, 50]\n"
          ]
        }
      ]
    },
    {
      "cell_type": "code",
      "source": [
        "#문자열에 문자열 포함 확인하기\n",
        "s='I am happy'\n",
        "print('happy' in s)\n",
        "print('hap' in s)"
      ],
      "metadata": {
        "colab": {
          "base_uri": "https://localhost:8080/"
        },
        "id": "48wd3JZcJKDh",
        "outputId": "275384d8-d9e4-45c0-c8c6-e52b6c3bf543"
      },
      "execution_count": null,
      "outputs": [
        {
          "output_type": "stream",
          "name": "stdout",
          "text": [
            "True\n",
            "True\n"
          ]
        }
      ]
    },
    {
      "cell_type": "code",
      "source": [
        "#특정 문자열이 포함된 항목을 찾아서 리스트를 만들기\n",
        "files=['cat001','cat002','dog003','dog004']\n",
        "match='cat'\n",
        "new_list=[s for s in files if match in s]\n",
        "print(new_list)"
      ],
      "metadata": {
        "colab": {
          "base_uri": "https://localhost:8080/"
        },
        "id": "Y-qTbM_dJRQB",
        "outputId": "6b8b9b50-facf-4bac-d9f1-6e0a5f9c4e62"
      },
      "execution_count": null,
      "outputs": [
        {
          "output_type": "stream",
          "name": "stdout",
          "text": [
            "['cat001', 'cat002']\n"
          ]
        }
      ]
    },
    {
      "cell_type": "code",
      "source": [
        "#구구단을 딕셔너리로 만들고 사용하기\n",
        "result={}\n",
        "for i in range(2,10):\n",
        "    for j in range(1,10):\n",
        "        result[(i,j)]=i*j\n",
        "\n",
        "#구구단 사용하기\n",
        "result[(7,9)]"
      ],
      "metadata": {
        "colab": {
          "base_uri": "https://localhost:8080/"
        },
        "id": "eTZjCpYeJgOC",
        "outputId": "36e5d3db-7749-43b3-80eb-57421b9f3031"
      },
      "execution_count": null,
      "outputs": [
        {
          "output_type": "execute_result",
          "data": {
            "text/plain": [
              "63"
            ]
          },
          "metadata": {},
          "execution_count": 52
        }
      ]
    },
    {
      "cell_type": "code",
      "source": [],
      "metadata": {
        "id": "pObjIDCRJxuR"
      },
      "execution_count": null,
      "outputs": []
    }
  ]
}